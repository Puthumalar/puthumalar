{
 "cells": [
  {
   "cell_type": "code",
   "execution_count": null,
   "id": "35f432e4",
   "metadata": {},
   "outputs": [],
   "source": [
    "graph={'pkc':['STADIUM','PARKING','TREE'],\n",
    "      'STADIUM':['MAIN BLOCK'],\n",
    "      'PARKING':['JUNCTION'],\n",
    "      'JUNCTION':['ENTERANCE','MAIN BLOCK'],\n",
    "      'ENTERANCE':['JUNCTION'],\n",
    "      'MAIN BLOCK':['JUNCTION'],\n",
    "      'TREE':['PKC']}"
   ]
  },
  {
   "cell_type": "code",
   "execution_count": null,
   "id": "aace6091",
   "metadata": {},
   "outputs": [],
   "source": [
    "from queue import Lifoqueue\n",
    "stack=Lifeoqueue\n",
    "def dfs(graph,start,goal,visited):\n",
    "    stack=[start]\n",
    "    while stack:\n",
    "        node=stack.pop()\n",
    "        if node not in visited:\n",
    "            visited.append(node)\n",
    "            if node==goal:\n",
    "                print(visited)\n",
    "                for neighbors in graph[node]:\n",
    "                    dfs(graph,neighbors,goal,visited)"
   ]
  },
  {
   "cell_type": "code",
   "execution_count": null,
   "id": "87accb79",
   "metadata": {},
   "outputs": [],
   "source": []
  }
 ],
 "metadata": {
  "kernelspec": {
   "display_name": "Python 3 (ipykernel)",
   "language": "python",
   "name": "python3"
  },
  "language_info": {
   "codemirror_mode": {
    "name": "ipython",
    "version": 3
   },
   "file_extension": ".py",
   "mimetype": "text/x-python",
   "name": "python",
   "nbconvert_exporter": "python",
   "pygments_lexer": "ipython3",
   "version": "3.11.4"
  }
 },
 "nbformat": 4,
 "nbformat_minor": 5
}
