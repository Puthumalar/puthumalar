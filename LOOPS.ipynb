{
 "cells": [
  {
   "cell_type": "markdown",
   "id": "0d199699",
   "metadata": {},
   "source": [
    "# for loop"
   ]
  },
  {
   "cell_type": "code",
   "execution_count": 1,
   "id": "f1d44e1e",
   "metadata": {},
   "outputs": [
    {
     "ename": "SyntaxError",
     "evalue": "invalid syntax (1127762024.py, line 1)",
     "output_type": "error",
     "traceback": [
      "\u001b[1;36m  Cell \u001b[1;32mIn[1], line 1\u001b[1;36m\u001b[0m\n\u001b[1;33m    for <variable> in <sequence>:\u001b[0m\n\u001b[1;37m        ^\u001b[0m\n\u001b[1;31mSyntaxError\u001b[0m\u001b[1;31m:\u001b[0m invalid syntax\n"
     ]
    }
   ],
   "source": [
    "for <variable> in <sequence>:\n",
    "    <statement>"
   ]
  },
  {
   "cell_type": "code",
   "execution_count": null,
   "id": "8d257edc",
   "metadata": {},
   "outputs": [],
   "source": [
    "lis=[1,2,3,4,5,6]"
   ]
  },
  {
   "cell_type": "code",
   "execution_count": null,
   "id": "59e8ddff",
   "metadata": {},
   "outputs": [],
   "source": [
    "for step in lis:\n",
    "    print(f\"the step is {step}\")"
   ]
  },
  {
   "cell_type": "code",
   "execution_count": null,
   "id": "735f1dd9",
   "metadata": {},
   "outputs": [],
   "source": [
    "sum=0\n",
    "market=int(input(\"enter the number of items:\"))\n",
    "for product in range(0,market):\n",
    "    a=(input(\"enter the product name:\"))\n",
    "    b=int(input(\"enter the product price:\"))\n",
    "    sum+=b\n",
    "    print(f\"total price:{sum}\")\n",
    "    \n",
    "             "
   ]
  },
  {
   "cell_type": "code",
   "execution_count": 2,
   "id": "a142b0c6",
   "metadata": {},
   "outputs": [
    {
     "name": "stdout",
     "output_type": "stream",
     "text": [
      "enter the number of items purchased:3\n",
      "enter the product name:pringles\n",
      "enter the product name:darkfantasy\n",
      "enter the product name:lakme kajal\n"
     ]
    }
   ],
   "source": [
    "prod_name=[]\n",
    "total_item=int(input(\"enter the number of items purchased:\"))\n",
    "for item in range(0,total_item):\n",
    "    prod_name.append(input(\"enter the product name:\"))\n"
   ]
  },
  {
   "cell_type": "code",
   "execution_count": 3,
   "id": "97eece9f",
   "metadata": {},
   "outputs": [
    {
     "data": {
      "text/plain": [
       "['pringles', 'darkfantasy', 'lakme kajal']"
      ]
     },
     "execution_count": 3,
     "metadata": {},
     "output_type": "execute_result"
    }
   ],
   "source": [
    "prod_name"
   ]
  },
  {
   "cell_type": "markdown",
   "id": "a475ca37",
   "metadata": {},
   "source": [
    "# while loop"
   ]
  },
  {
   "cell_type": "code",
   "execution_count": null,
   "id": "f8536706",
   "metadata": {},
   "outputs": [],
   "source": []
  }
 ],
 "metadata": {
  "kernelspec": {
   "display_name": "Python 3 (ipykernel)",
   "language": "python",
   "name": "python3"
  },
  "language_info": {
   "codemirror_mode": {
    "name": "ipython",
    "version": 3
   },
   "file_extension": ".py",
   "mimetype": "text/x-python",
   "name": "python",
   "nbconvert_exporter": "python",
   "pygments_lexer": "ipython3",
   "version": "3.9.17"
  }
 },
 "nbformat": 4,
 "nbformat_minor": 5
}
