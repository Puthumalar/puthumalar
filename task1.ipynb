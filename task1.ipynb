{
 "cells": [
  {
   "cell_type": "code",
   "execution_count": 12,
   "id": "17664cd3",
   "metadata": {},
   "outputs": [],
   "source": [
    "graph={'thanjavur':['old bustand'],\n",
    "      'old bustand':['druken monkey','grand dine','thanjavur'],\n",
    "      'druken monkey':['old bustand'],\n",
    "      'grand dine':['max','old bustand'],\n",
    "      'max':['bombay sweets','grand dine'],\n",
    "      'bombay sweets':['trends','max'],\n",
    "      'trends':['old bustand','bombay sweets']}"
   ]
  },
  {
   "cell_type": "code",
   "execution_count": 13,
   "id": "55fbd693",
   "metadata": {},
   "outputs": [],
   "source": [
    "from collections import deque\n",
    "def bfs (graph,start,goal):\n",
    "    visited=[]\n",
    "    queue=deque([start])\n",
    "    while queue:\n",
    "        node=queue.popleft()\n",
    "        if node not in visited:\n",
    "            visited.append(node)\n",
    "            print(\"i have visited\",node)\n",
    "            neighbournode=graph[node]\n",
    "            if node==goal:\n",
    "                print(\"i have visited the goal,the path i travelled\",visited)\n",
    "            for neighbours in neighbournode:\n",
    "                queue.append(neighbours)"
   ]
  },
  {
   "cell_type": "code",
   "execution_count": 14,
   "id": "e8be511a",
   "metadata": {},
   "outputs": [
    {
     "name": "stdout",
     "output_type": "stream",
     "text": [
      "i have visited thanjavur\n",
      "i have visited old bustand\n",
      "i have visited druken monkey\n",
      "i have visited grand dine\n",
      "i have visited max\n",
      "i have visited bombay sweets\n",
      "i have visited trends\n",
      "i have visited the goal,the path i travelled ['thanjavur', 'old bustand', 'druken monkey', 'grand dine', 'max', 'bombay sweets', 'trends']\n"
     ]
    }
   ],
   "source": [
    "bfs(graph,'thanjavur','trends')"
   ]
  },
  {
   "cell_type": "code",
   "execution_count": null,
   "id": "a672f766",
   "metadata": {},
   "outputs": [],
   "source": []
  },
  {
   "cell_type": "code",
   "execution_count": null,
   "id": "ad011ec8",
   "metadata": {},
   "outputs": [],
   "source": []
  }
 ],
 "metadata": {
  "kernelspec": {
   "display_name": "Python 3 (ipykernel)",
   "language": "python",
   "name": "python3"
  },
  "language_info": {
   "codemirror_mode": {
    "name": "ipython",
    "version": 3
   },
   "file_extension": ".py",
   "mimetype": "text/x-python",
   "name": "python",
   "nbconvert_exporter": "python",
   "pygments_lexer": "ipython3",
   "version": "3.11.4"
  }
 },
 "nbformat": 4,
 "nbformat_minor": 5
}
