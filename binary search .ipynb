{
 "cells": [
  {
   "cell_type": "markdown",
   "id": "c808816c",
   "metadata": {},
   "source": [
    "# 1.creating dataset\n",
    "       data sequence where the desired/searching element is going to be searched"
   ]
  },
  {
   "cell_type": "code",
   "execution_count": 4,
   "id": "8230125c",
   "metadata": {},
   "outputs": [],
   "source": [
    "data=[5,6,7,8,1,34,12,13,24,18,13,17,2,0,3]"
   ]
  },
  {
   "cell_type": "code",
   "execution_count": 5,
   "id": "814a12d2",
   "metadata": {},
   "outputs": [],
   "source": [
    "data.sort()"
   ]
  },
  {
   "cell_type": "code",
   "execution_count": 6,
   "id": "c53f8dde",
   "metadata": {},
   "outputs": [
    {
     "name": "stdout",
     "output_type": "stream",
     "text": [
      "[0, 1, 2, 3, 5, 6, 7, 8, 12, 13, 13, 17, 18, 24, 34]\n"
     ]
    }
   ],
   "source": [
    "print(data)"
   ]
  },
  {
   "cell_type": "code",
   "execution_count": 7,
   "id": "685bf78e",
   "metadata": {},
   "outputs": [
    {
     "name": "stdout",
     "output_type": "stream",
     "text": [
      "enter the search element17\n"
     ]
    }
   ],
   "source": [
    "element=int(input(\"enter the search element\"))"
   ]
  },
  {
   "cell_type": "code",
   "execution_count": 14,
   "id": "b64e6769",
   "metadata": {},
   "outputs": [],
   "source": [
    "def binary_search(data,elem):\n",
    "    low=0\n",
    "    high=len(data)-1\n",
    "    \n",
    "    while low<=high:\n",
    "        middle=(low+high)//2\n",
    "        if data[middle]==elem:\n",
    "            print(f\"the searching element {elem} is present in index value {middle} in dataset \")\n",
    "            break\n",
    "            \n",
    "        elif data[middle] > elem:\n",
    "                high = middle - 1\n",
    "        else:\n",
    "                low=middle+1\n",
    "    if data[middle]!=elem:\n",
    "            print(f\"the searching element{elem}is not present at index\")\n",
    "            return"
   ]
  },
  {
   "cell_type": "code",
   "execution_count": null,
   "id": "c967e6ec",
   "metadata": {},
   "outputs": [],
   "source": []
  },
  {
   "cell_type": "code",
   "execution_count": null,
   "id": "33e6ffa4",
   "metadata": {},
   "outputs": [],
   "source": []
  }
 ],
 "metadata": {
  "kernelspec": {
   "display_name": "Python 3 (ipykernel)",
   "language": "python",
   "name": "python3"
  },
  "language_info": {
   "codemirror_mode": {
    "name": "ipython",
    "version": 3
   },
   "file_extension": ".py",
   "mimetype": "text/x-python",
   "name": "python",
   "nbconvert_exporter": "python",
   "pygments_lexer": "ipython3",
   "version": "3.9.17"
  }
 },
 "nbformat": 4,
 "nbformat_minor": 5
}
