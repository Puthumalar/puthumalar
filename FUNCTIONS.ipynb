{
 "cells": [
  {
   "cell_type": "markdown",
   "id": "deb1bfb6",
   "metadata": {},
   "source": [
    "# FUNCTION"
   ]
  },
  {
   "cell_type": "code",
   "execution_count": 2,
   "id": "e2d6e154",
   "metadata": {},
   "outputs": [],
   "source": [
    "def birthday():\n",
    "    event1=input(\"friends are assembled\")\n",
    "    event2=input(\"cutting the cake\")\n",
    "    event3=input(\"cake and chocolate has been distributed\")\n",
    "    event4=input(\"gifts are given\")\n",
    "    event5=input(\"friends started going to home\")\n",
    "    print(f\"enter the event:\")\n",
    "    \n",
    "    "
   ]
  },
  {
   "cell_type": "markdown",
   "id": "bacc98f8",
   "metadata": {},
   "source": []
  },
  {
   "cell_type": "code",
   "execution_count": null,
   "id": "2d0d70e1",
   "metadata": {},
   "outputs": [],
   "source": [
    "birthday()"
   ]
  },
  {
   "cell_type": "code",
   "execution_count": null,
   "id": "ccb907ce",
   "metadata": {},
   "outputs": [],
   "source": [
    "def eligibility(age):\n",
    "    if age (<=18):\n",
    "    print(\"eligible for voting\")\n",
    "else:\n",
    "    print(\"not eligible for voting\")"
   ]
  },
  {
   "cell_type": "code",
   "execution_count": null,
   "id": "4b13cd37",
   "metadata": {},
   "outputs": [],
   "source": [
    "eligibility(18)"
   ]
  },
  {
   "cell_type": "code",
   "execution_count": null,
   "id": "dcdf3896",
   "metadata": {},
   "outputs": [],
   "source": []
  },
  {
   "cell_type": "code",
   "execution_count": null,
   "id": "f0471e37",
   "metadata": {},
   "outputs": [],
   "source": []
  }
 ],
 "metadata": {
  "kernelspec": {
   "display_name": "Python 3 (ipykernel)",
   "language": "python",
   "name": "python3"
  },
  "language_info": {
   "codemirror_mode": {
    "name": "ipython",
    "version": 3
   },
   "file_extension": ".py",
   "mimetype": "text/x-python",
   "name": "python",
   "nbconvert_exporter": "python",
   "pygments_lexer": "ipython3",
   "version": "3.9.17"
  }
 },
 "nbformat": 4,
 "nbformat_minor": 5
}
