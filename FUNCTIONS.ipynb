{
 "cells": [
  {
   "cell_type": "markdown",
   "id": "fb3213bd",
   "metadata": {},
   "source": [
    "# FUNCTION"
   ]
  },
  {
   "cell_type": "code",
   "execution_count": null,
   "id": "7336f6f4",
   "metadata": {},
   "outputs": [],
   "source": [
    "def birthday():\n",
    "    event1=input(\"friends are assembled\")\n",
    "    event2=input(\"cutting the cake\")\n",
    "    event3=input(\"cake and chocolate has been distributed\")\n",
    "    event4=input(\"gifts are given\")\n",
    "    event5=input(\"friends started going to home\")\n",
    "    print(f\"enter the event:\")\n",
    "    \n",
    "    "
   ]
  },
  {
   "cell_type": "markdown",
   "id": "c1b5dfad",
   "metadata": {},
   "source": []
  },
  {
   "cell_type": "code",
   "execution_count": null,
   "id": "a72f1746",
   "metadata": {},
   "outputs": [],
   "source": [
    "birthday()"
   ]
  },
  {
   "cell_type": "code",
   "execution_count": null,
   "id": "fe98c60f",
   "metadata": {},
   "outputs": [],
   "source": [
    "def eligibility(age):\n",
    "    if age <=18:\n",
    "    print(\"eligible for voting\")\n",
    "else:\n",
    "    print(\"not eligible for voting\")"
   ]
  },
  {
   "cell_type": "code",
   "execution_count": null,
   "id": "28d49b67",
   "metadata": {},
   "outputs": [],
   "source": [
    "eligibility(18)"
   ]
  },
  {
   "cell_type": "code",
   "execution_count": 1,
   "id": "2e9b491d",
   "metadata": {},
   "outputs": [
    {
     "name": "stdout",
     "output_type": "stream",
     "text": [
      "enter no of subjects:2\n",
      "enter the marks : 80\n",
      "enter the marks : 90\n",
      "average =85.0\n",
      "pass\n"
     ]
    }
   ],
   "source": [
    "\n",
    "    n=int(input(\"enter no of subjects:\"))\n",
    "    sum=0\n",
    "    for i in range(0,n):\n",
    "        mark=int(input(\"enter the marks : \"))\n",
    "        sum+=mark\n",
    "    avg=sum/n\n",
    "    print(f\"average ={avg}\")\n",
    "    if avg>30:\n",
    "        print(\"pass\")\n",
    "    else:\n",
    "        print(\"fail\")\n",
    "    "
   ]
  },
  {
   "cell_type": "code",
   "execution_count": null,
   "id": "bdec667e",
   "metadata": {},
   "outputs": [],
   "source": []
  },
  {
   "cell_type": "code",
   "execution_count": null,
   "id": "26f29081",
   "metadata": {},
   "outputs": [],
   "source": []
  }
 ],
 "metadata": {
  "kernelspec": {
   "display_name": "Python 3 (ipykernel)",
   "language": "python",
   "name": "python3"
  },
  "language_info": {
   "codemirror_mode": {
    "name": "ipython",
    "version": 3
   },
   "file_extension": ".py",
   "mimetype": "text/x-python",
   "name": "python",
   "nbconvert_exporter": "python",
   "pygments_lexer": "ipython3",
   "version": "3.9.17"
  }
 },
 "nbformat": 4,
 "nbformat_minor": 5
}
