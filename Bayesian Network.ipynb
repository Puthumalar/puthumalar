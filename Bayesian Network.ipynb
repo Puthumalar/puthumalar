{
 "cells": [
  {
   "cell_type": "markdown",
   "id": "cfec79ea",
   "metadata": {},
   "source": [
    "# Problem Statement"
   ]
  },
  {
   "cell_type": "code",
   "execution_count": 1,
   "id": "e368c68f",
   "metadata": {},
   "outputs": [
    {
     "ename": "SyntaxError",
     "evalue": "invalid syntax (2808790243.py, line 1)",
     "output_type": "error",
     "traceback": [
      "\u001b[1;36m  Cell \u001b[1;32mIn[1], line 1\u001b[1;36m\u001b[0m\n\u001b[1;33m    Imagine we have five nodes....cancer...smoking.Asbestors Consumption....X-Ray....blood vomiting..now we have a patient\u001b[0m\n\u001b[1;37m            ^\u001b[0m\n\u001b[1;31mSyntaxError\u001b[0m\u001b[1;31m:\u001b[0m invalid syntax\n"
     ]
    }
   ],
   "source": [
    "Imagine we have five nodes....cancer...smoking.Asbestors Consumption....X-Ray....blood vomiting..now we have a patient \n",
    "who by nature very less and was grown in an environment which has little bit of asbestors around in the form of \n",
    "smokers or roof tops.He assumes he can develop cancer.During routine check ups there was something unusual in X-ray showing a \n",
    "tumer.Unfortunately the patient had blood vomiting.\n"
   ]
  },
  {
   "cell_type": "markdown",
   "id": "2bb0a27e",
   "metadata": {},
   "source": [
    "# Protopunica Library"
   ]
  },
  {
   "cell_type": "code",
   "execution_count": 10,
   "id": "55326db7",
   "metadata": {},
   "outputs": [],
   "source": [
    "#pip install protopunica"
   ]
  },
  {
   "cell_type": "code",
   "execution_count": 11,
   "id": "5dda7687",
   "metadata": {},
   "outputs": [],
   "source": [
    "from protopunica import *"
   ]
  },
  {
   "cell_type": "markdown",
   "id": "2331983a",
   "metadata": {},
   "source": [
    "protopunica is a python library that implements probabilistic models"
   ]
  },
  {
   "cell_type": "code",
   "execution_count": 12,
   "id": "a7b5e0f1",
   "metadata": {},
   "outputs": [],
   "source": [
    "smoking = Node(DiscreteDistribution({\"High smoking\":0.7,\"Low smoking\":0.3}),name=\"smoking\")"
   ]
  },
  {
   "cell_type": "markdown",
   "id": "dd041232",
   "metadata": {},
   "source": [
    "Smoking is a root node and is not having any parent nodes.Smoking is a randaom variable that takes two values High smoking\n",
    "and low smoking"
   ]
  },
  {
   "cell_type": "code",
   "execution_count": 13,
   "id": "2fe3b629",
   "metadata": {},
   "outputs": [],
   "source": [
    "asbes_consum= Node(DiscreteDistribution({\"High cons\":0.3,\"Low cons\":0.7}),name=\"asbes_consum\")"
   ]
  },
  {
   "cell_type": "markdown",
   "id": "1717a24b",
   "metadata": {},
   "source": [
    "asbestors consumption is also a root node which is not having any parents and has two values.High consumption and low \n",
    "consumption"
   ]
  },
  {
   "cell_type": "code",
   "execution_count": 39,
   "id": "4cfe4987",
   "metadata": {},
   "outputs": [],
   "source": [
    "cancer=Node(ConditionalProbabilityTable([\n",
    "    [\"High smoking\",\"High cons\",\"Pos\",0.4],\n",
    "    [\"High smoking\",\"High cons\",\"Neg\",0.6],\n",
    "    [\"High smoking\",\"Low cons\",\"Pos\",0.3],\n",
    "    [\"High smoking\",\"Low cons\",\"Neg\",0.7],\n",
    "    [\"Low smoking\",\"Low cons\",\"Pos\",0.1],\n",
    "    [\"Low smoking\",\"Low cons\",\"Neg\",0.9],\n",
    "    [\"Low smoking\",\"High cons\",\"Pos\",0.02],\n",
    "    [\"Low smoking\",\"High cons\",\"Neg\",0.98],\n",
    "],[smoking.distribution,asbes_consum.distribution]),name=\"cancer\")"
   ]
  },
  {
   "cell_type": "markdown",
   "id": "b0e35e39",
   "metadata": {},
   "source": [
    "cancer is a random variable which is conditionally dependent on smoking and asbestos cancer takes \n",
    "two values positiveand negative"
   ]
  },
  {
   "cell_type": "code",
   "execution_count": 40,
   "id": "976cfa51",
   "metadata": {},
   "outputs": [],
   "source": [
    "scan=Node(ConditionalProbabilityTable([\n",
    "    [\"Pos\",\"scan_Pos\",0.8],\n",
    "    [\"Pos\",\"scan_Neg\",0.2],\n",
    "    [\"Neg\",\"scan_Pos\",0.1],\n",
    "    [\"Neg\",\"scan_Neg\",0.9],\n",
    "],[cancer.distribution]),name=\"scan\")"
   ]
  },
  {
   "cell_type": "markdown",
   "id": "49195df4",
   "metadata": {},
   "source": [
    "scan(X-ray)is conditionally dependent on cancer.if there is cancer,there is a chance that the X-ray might reveal it.it takes two values positive and negative."
   ]
  },
  {
   "cell_type": "code",
   "execution_count": 41,
   "id": "9bb1af22",
   "metadata": {},
   "outputs": [],
   "source": [
    "Blood_vomiting=Node(ConditionalProbabilityTable([\n",
    "    [\"Pos\",\"B.V_Pos\",0.7],\n",
    "    [\"Pos\",\"B.V_Neg\",0.3],\n",
    "    [\"Neg\",\"B.V_Pos\",0.2],\n",
    "    [\"Neg\",\"B.V_Neg\",0.8],\n",
    "],[cancer.distribution]),name=\"Blood_vomiting\")"
   ]
  },
  {
   "cell_type": "markdown",
   "id": "6b5ebb21",
   "metadata": {},
   "source": [
    "patient suffers from blood vomiting takes two values B.Vpos(yes he has blood vomiting )and B.V\n",
    "neg(No he is not having any blood vomiting)"
   ]
  },
  {
   "cell_type": "markdown",
   "id": "e8e6fde0",
   "metadata": {},
   "source": [
    "# model the Bayesian Network"
   ]
  },
  {
   "cell_type": "code",
   "execution_count": 42,
   "id": "f1b95549",
   "metadata": {},
   "outputs": [],
   "source": [
    "model=BayesianNetwork()"
   ]
  },
  {
   "cell_type": "markdown",
   "id": "1ee29092",
   "metadata": {},
   "source": [
    "# Add All The Nodes For The Bayesian Network"
   ]
  },
  {
   "cell_type": "code",
   "execution_count": 43,
   "id": "797a2ddc",
   "metadata": {},
   "outputs": [],
   "source": [
    "model.add_states(smoking,asbes_consum,cancer,scan,Blood_vomiting)"
   ]
  },
  {
   "cell_type": "markdown",
   "id": "52876001",
   "metadata": {},
   "source": [
    "Create The Edges Which State the conditional independence and dependence"
   ]
  },
  {
   "cell_type": "code",
   "execution_count": 44,
   "id": "3ab9c2bf",
   "metadata": {},
   "outputs": [],
   "source": [
    "model.add_edge(smoking,cancer)\n",
    "model.add_edge(asbes_consum,cancer)\n",
    "model.add_edge(cancer,scan)\n",
    "model.add_edge(cancer,Blood_vomiting)   "
   ]
  },
  {
   "cell_type": "markdown",
   "id": "a016e28c",
   "metadata": {},
   "source": [
    "# Bake the model"
   ]
  },
  {
   "cell_type": "code",
   "execution_count": 46,
   "id": "dd698230",
   "metadata": {},
   "outputs": [],
   "source": [
    "model.bake()"
   ]
  },
  {
   "cell_type": "code",
   "execution_count": 48,
   "id": "0bfde7f8",
   "metadata": {},
   "outputs": [
    {
     "data": {
      "text/plain": [
       "{\n",
       "    \"class\" : \"BayesianNetwork\",\n",
       "    \"name\" : \"2079566662960\",\n",
       "    \"structure\" : [\n",
       "        [],\n",
       "        [],\n",
       "        [\n",
       "            0,\n",
       "            1\n",
       "        ],\n",
       "        [\n",
       "            2\n",
       "        ],\n",
       "        [\n",
       "            2\n",
       "        ]\n",
       "    ],\n",
       "    \"states\" : [\n",
       "        {\n",
       "            \"class\" : \"State\",\n",
       "            \"distribution\" : {\n",
       "                \"class\" : \"Distribution\",\n",
       "                \"dtype\" : \"str\",\n",
       "                \"name\" : \"DiscreteDistribution\",\n",
       "                \"parameters\" : [\n",
       "                    {\n",
       "                        \"High smoking\" : 0.7,\n",
       "                        \"Low smoking\" : 0.3\n",
       "                    }\n",
       "                ],\n",
       "                \"frozen\" : false\n",
       "            },\n",
       "            \"name\" : \"smoking\",\n",
       "            \"weight\" : 1.0\n",
       "        },\n",
       "        {\n",
       "            \"class\" : \"State\",\n",
       "            \"distribution\" : {\n",
       "                \"class\" : \"Distribution\",\n",
       "                \"dtype\" : \"str\",\n",
       "                \"name\" : \"DiscreteDistribution\",\n",
       "                \"parameters\" : [\n",
       "                    {\n",
       "                        \"High cons\" : 0.3,\n",
       "                        \"Low cons\" : 0.7\n",
       "                    }\n",
       "                ],\n",
       "                \"frozen\" : false\n",
       "            },\n",
       "            \"name\" : \"asbes_consum\",\n",
       "            \"weight\" : 1.0\n",
       "        },\n",
       "        {\n",
       "            \"class\" : \"State\",\n",
       "            \"distribution\" : {\n",
       "                \"class\" : \"Distribution\",\n",
       "                \"name\" : \"ConditionalProbabilityTable\",\n",
       "                \"table\" : [\n",
       "                    [\n",
       "                        \"High smoking\",\n",
       "                        \"High cons\",\n",
       "                        \"Pos\",\n",
       "                        \"0.4\"\n",
       "                    ],\n",
       "                    [\n",
       "                        \"High smoking\",\n",
       "                        \"High cons\",\n",
       "                        \"Neg\",\n",
       "                        \"0.6\"\n",
       "                    ],\n",
       "                    [\n",
       "                        \"High smoking\",\n",
       "                        \"Low cons\",\n",
       "                        \"Pos\",\n",
       "                        \"0.3\"\n",
       "                    ],\n",
       "                    [\n",
       "                        \"High smoking\",\n",
       "                        \"Low cons\",\n",
       "                        \"Neg\",\n",
       "                        \"0.7\"\n",
       "                    ],\n",
       "                    [\n",
       "                        \"Low smoking\",\n",
       "                        \"Low cons\",\n",
       "                        \"Pos\",\n",
       "                        \"0.10000000000000002\"\n",
       "                    ],\n",
       "                    [\n",
       "                        \"Low smoking\",\n",
       "                        \"Low cons\",\n",
       "                        \"Neg\",\n",
       "                        \"0.9\"\n",
       "                    ],\n",
       "                    [\n",
       "                        \"Low smoking\",\n",
       "                        \"High cons\",\n",
       "                        \"Pos\",\n",
       "                        \"0.02\"\n",
       "                    ],\n",
       "                    [\n",
       "                        \"Low smoking\",\n",
       "                        \"High cons\",\n",
       "                        \"Neg\",\n",
       "                        \"0.98\"\n",
       "                    ]\n",
       "                ],\n",
       "                \"dtypes\" : [\n",
       "                    \"str\",\n",
       "                    \"str\",\n",
       "                    \"str\",\n",
       "                    \"float\"\n",
       "                ],\n",
       "                \"parents\" : [\n",
       "                    {\n",
       "                        \"class\" : \"Distribution\",\n",
       "                        \"dtype\" : \"str\",\n",
       "                        \"name\" : \"DiscreteDistribution\",\n",
       "                        \"parameters\" : [\n",
       "                            {\n",
       "                                \"High smoking\" : 0.7,\n",
       "                                \"Low smoking\" : 0.3\n",
       "                            }\n",
       "                        ],\n",
       "                        \"frozen\" : false\n",
       "                    },\n",
       "                    {\n",
       "                        \"class\" : \"Distribution\",\n",
       "                        \"dtype\" : \"str\",\n",
       "                        \"name\" : \"DiscreteDistribution\",\n",
       "                        \"parameters\" : [\n",
       "                            {\n",
       "                                \"High cons\" : 0.3,\n",
       "                                \"Low cons\" : 0.7\n",
       "                            }\n",
       "                        ],\n",
       "                        \"frozen\" : false\n",
       "                    }\n",
       "                ]\n",
       "            },\n",
       "            \"name\" : \"cancer\",\n",
       "            \"weight\" : 1.0\n",
       "        },\n",
       "        {\n",
       "            \"class\" : \"State\",\n",
       "            \"distribution\" : {\n",
       "                \"class\" : \"Distribution\",\n",
       "                \"name\" : \"ConditionalProbabilityTable\",\n",
       "                \"table\" : [\n",
       "                    [\n",
       "                        \"Pos\",\n",
       "                        \"scan_Pos\",\n",
       "                        \"0.8\"\n",
       "                    ],\n",
       "                    [\n",
       "                        \"Pos\",\n",
       "                        \"scan_Neg\",\n",
       "                        \"0.2\"\n",
       "                    ],\n",
       "                    [\n",
       "                        \"Neg\",\n",
       "                        \"scan_Pos\",\n",
       "                        \"0.10000000000000002\"\n",
       "                    ],\n",
       "                    [\n",
       "                        \"Neg\",\n",
       "                        \"scan_Neg\",\n",
       "                        \"0.9\"\n",
       "                    ]\n",
       "                ],\n",
       "                \"dtypes\" : [\n",
       "                    \"str\",\n",
       "                    \"str\",\n",
       "                    \"float\"\n",
       "                ],\n",
       "                \"parents\" : [\n",
       "                    {\n",
       "                        \"class\" : \"Distribution\",\n",
       "                        \"name\" : \"ConditionalProbabilityTable\",\n",
       "                        \"table\" : [\n",
       "                            [\n",
       "                                \"High smoking\",\n",
       "                                \"High cons\",\n",
       "                                \"Neg\",\n",
       "                                \"0.6\"\n",
       "                            ],\n",
       "                            [\n",
       "                                \"High smoking\",\n",
       "                                \"High cons\",\n",
       "                                \"Pos\",\n",
       "                                \"0.4\"\n",
       "                            ],\n",
       "                            [\n",
       "                                \"High smoking\",\n",
       "                                \"Low cons\",\n",
       "                                \"Neg\",\n",
       "                                \"0.7\"\n",
       "                            ],\n",
       "                            [\n",
       "                                \"High smoking\",\n",
       "                                \"Low cons\",\n",
       "                                \"Pos\",\n",
       "                                \"0.3\"\n",
       "                            ],\n",
       "                            [\n",
       "                                \"Low smoking\",\n",
       "                                \"High cons\",\n",
       "                                \"Neg\",\n",
       "                                \"0.98\"\n",
       "                            ],\n",
       "                            [\n",
       "                                \"Low smoking\",\n",
       "                                \"High cons\",\n",
       "                                \"Pos\",\n",
       "                                \"0.02\"\n",
       "                            ],\n",
       "                            [\n",
       "                                \"Low smoking\",\n",
       "                                \"Low cons\",\n",
       "                                \"Neg\",\n",
       "                                \"0.9\"\n",
       "                            ],\n",
       "                            [\n",
       "                                \"Low smoking\",\n",
       "                                \"Low cons\",\n",
       "                                \"Pos\",\n",
       "                                \"0.10000000000000002\"\n",
       "                            ]\n",
       "                        ],\n",
       "                        \"dtypes\" : [\n",
       "                            \"str\",\n",
       "                            \"str\",\n",
       "                            \"str\",\n",
       "                            \"float\"\n",
       "                        ],\n",
       "                        \"parents\" : [\n",
       "                            {\n",
       "                                \"class\" : \"Distribution\",\n",
       "                                \"dtype\" : \"str\",\n",
       "                                \"name\" : \"DiscreteDistribution\",\n",
       "                                \"parameters\" : [\n",
       "                                    {\n",
       "                                        \"High smoking\" : 0.7,\n",
       "                                        \"Low smoking\" : 0.3\n",
       "                                    }\n",
       "                                ],\n",
       "                                \"frozen\" : false\n",
       "                            },\n",
       "                            {\n",
       "                                \"class\" : \"Distribution\",\n",
       "                                \"dtype\" : \"str\",\n",
       "                                \"name\" : \"DiscreteDistribution\",\n",
       "                                \"parameters\" : [\n",
       "                                    {\n",
       "                                        \"High cons\" : 0.3,\n",
       "                                        \"Low cons\" : 0.7\n",
       "                                    }\n",
       "                                ],\n",
       "                                \"frozen\" : false\n",
       "                            }\n",
       "                        ]\n",
       "                    }\n",
       "                ]\n",
       "            },\n",
       "            \"name\" : \"scan\",\n",
       "            \"weight\" : 1.0\n",
       "        },\n",
       "        {\n",
       "            \"class\" : \"State\",\n",
       "            \"distribution\" : {\n",
       "                \"class\" : \"Distribution\",\n",
       "                \"name\" : \"ConditionalProbabilityTable\",\n",
       "                \"table\" : [\n",
       "                    [\n",
       "                        \"Pos\",\n",
       "                        \"B.V_Pos\",\n",
       "                        \"0.7\"\n",
       "                    ],\n",
       "                    [\n",
       "                        \"Pos\",\n",
       "                        \"B.V_Neg\",\n",
       "                        \"0.3\"\n",
       "                    ],\n",
       "                    [\n",
       "                        \"Neg\",\n",
       "                        \"B.V_Pos\",\n",
       "                        \"0.2\"\n",
       "                    ],\n",
       "                    [\n",
       "                        \"Neg\",\n",
       "                        \"B.V_Neg\",\n",
       "                        \"0.8\"\n",
       "                    ]\n",
       "                ],\n",
       "                \"dtypes\" : [\n",
       "                    \"str\",\n",
       "                    \"str\",\n",
       "                    \"float\"\n",
       "                ],\n",
       "                \"parents\" : [\n",
       "                    {\n",
       "                        \"class\" : \"Distribution\",\n",
       "                        \"name\" : \"ConditionalProbabilityTable\",\n",
       "                        \"table\" : [\n",
       "                            [\n",
       "                                \"High smoking\",\n",
       "                                \"High cons\",\n",
       "                                \"Neg\",\n",
       "                                \"0.6\"\n",
       "                            ],\n",
       "                            [\n",
       "                                \"High smoking\",\n",
       "                                \"High cons\",\n",
       "                                \"Pos\",\n",
       "                                \"0.4\"\n",
       "                            ],\n",
       "                            [\n",
       "                                \"High smoking\",\n",
       "                                \"Low cons\",\n",
       "                                \"Neg\",\n",
       "                                \"0.7\"\n",
       "                            ],\n",
       "                            [\n",
       "                                \"High smoking\",\n",
       "                                \"Low cons\",\n",
       "                                \"Pos\",\n",
       "                                \"0.3\"\n",
       "                            ],\n",
       "                            [\n",
       "                                \"Low smoking\",\n",
       "                                \"High cons\",\n",
       "                                \"Neg\",\n",
       "                                \"0.98\"\n",
       "                            ],\n",
       "                            [\n",
       "                                \"Low smoking\",\n",
       "                                \"High cons\",\n",
       "                                \"Pos\",\n",
       "                                \"0.02\"\n",
       "                            ],\n",
       "                            [\n",
       "                                \"Low smoking\",\n",
       "                                \"Low cons\",\n",
       "                                \"Neg\",\n",
       "                                \"0.9\"\n",
       "                            ],\n",
       "                            [\n",
       "                                \"Low smoking\",\n",
       "                                \"Low cons\",\n",
       "                                \"Pos\",\n",
       "                                \"0.10000000000000002\"\n",
       "                            ]\n",
       "                        ],\n",
       "                        \"dtypes\" : [\n",
       "                            \"str\",\n",
       "                            \"str\",\n",
       "                            \"str\",\n",
       "                            \"float\"\n",
       "                        ],\n",
       "                        \"parents\" : [\n",
       "                            {\n",
       "                                \"class\" : \"Distribution\",\n",
       "                                \"dtype\" : \"str\",\n",
       "                                \"name\" : \"DiscreteDistribution\",\n",
       "                                \"parameters\" : [\n",
       "                                    {\n",
       "                                        \"High smoking\" : 0.7,\n",
       "                                        \"Low smoking\" : 0.3\n",
       "                                    }\n",
       "                                ],\n",
       "                                \"frozen\" : false\n",
       "                            },\n",
       "                            {\n",
       "                                \"class\" : \"Distribution\",\n",
       "                                \"dtype\" : \"str\",\n",
       "                                \"name\" : \"DiscreteDistribution\",\n",
       "                                \"parameters\" : [\n",
       "                                    {\n",
       "                                        \"High cons\" : 0.3,\n",
       "                                        \"Low cons\" : 0.7\n",
       "                                    }\n",
       "                                ],\n",
       "                                \"frozen\" : false\n",
       "                            }\n",
       "                        ]\n",
       "                    }\n",
       "                ]\n",
       "            },\n",
       "            \"name\" : \"Blood_vomiting\",\n",
       "            \"weight\" : 1.0\n",
       "        }\n",
       "    ]\n",
       "}"
      ]
     },
     "execution_count": 48,
     "metadata": {},
     "output_type": "execute_result"
    }
   ],
   "source": [
    "model"
   ]
  },
  {
   "cell_type": "markdown",
   "id": "88779dc4",
   "metadata": {},
   "source": [
    "# Find the probability for a given set of conditions"
   ]
  },
  {
   "cell_type": "markdown",
   "id": "e90ed445",
   "metadata": {},
   "source": [
    "# What is the probability that a patient might have cancer"
   ]
  },
  {
   "cell_type": "markdown",
   "id": "323f259b",
   "metadata": {},
   "source": [
    "with both blood vomiting and X-ray shows positive but the patient does not smoke or does not inhale asbestos"
   ]
  },
  {
   "cell_type": "markdown",
   "id": "b0c5b13e",
   "metadata": {},
   "source": [
    "# P(B.V,X,C-S,-AC)"
   ]
  },
  {
   "cell_type": "code",
   "execution_count": null,
   "id": "29342dc0",
   "metadata": {},
   "outputs": [],
   "source": [
    "probability=model.probability([[\"Low smoking\",\"Low cons\",]])"
   ]
  }
 ],
 "metadata": {
  "kernelspec": {
   "display_name": "Python 3 (ipykernel)",
   "language": "python",
   "name": "python3"
  },
  "language_info": {
   "codemirror_mode": {
    "name": "ipython",
    "version": 3
   },
   "file_extension": ".py",
   "mimetype": "text/x-python",
   "name": "python",
   "nbconvert_exporter": "python",
   "pygments_lexer": "ipython3",
   "version": "3.11.5"
  }
 },
 "nbformat": 4,
 "nbformat_minor": 5
}
