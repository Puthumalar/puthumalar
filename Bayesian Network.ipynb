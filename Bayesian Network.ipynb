{
 "cells": [
  {
   "cell_type": "markdown",
   "id": "cfec79ea",
   "metadata": {},
   "source": [
    "# Problem Statement"
   ]
  },
  {
   "cell_type": "code",
   "execution_count": 1,
   "id": "e368c68f",
   "metadata": {},
   "outputs": [
    {
     "ename": "SyntaxError",
     "evalue": "invalid syntax (2808790243.py, line 1)",
     "output_type": "error",
     "traceback": [
      "\u001b[1;36m  Cell \u001b[1;32mIn[1], line 1\u001b[1;36m\u001b[0m\n\u001b[1;33m    Imagine we have five nodes....cancer...smoking.Asbestors Consumption....X-Ray....blood vomiting..now we have a patient\u001b[0m\n\u001b[1;37m            ^\u001b[0m\n\u001b[1;31mSyntaxError\u001b[0m\u001b[1;31m:\u001b[0m invalid syntax\n"
     ]
    }
   ],
   "source": [
    "Imagine we have five nodes....cancer...smoking.Asbestors Consumption....X-Ray....blood vomiting..now we have a patient \n",
    "who by nature very less and was grown in an environment which has little bit of asbestors around in the form of \n",
    "smokers or roof tops.He assumes he can develop cancer.During routine check ups there was something unusual in X-ray showing a \n",
    "tumer.Unfortunately the patient had blood vomiting.\n"
   ]
  },
  {
   "cell_type": "markdown",
   "id": "2bb0a27e",
   "metadata": {},
   "source": [
    "# Pomegranate Library"
   ]
  },
  {
   "cell_type": "code",
   "execution_count": 6,
   "id": "55326db7",
   "metadata": {},
   "outputs": [
    {
     "name": "stdout",
     "output_type": "stream",
     "text": [
      "Requirement already satisfied: pomegranate in c:\\programdata\\anaconda3\\envs\\puthumalar\\lib\\site-packages (1.0.3)\n",
      "Requirement already satisfied: numpy>=1.22.2 in c:\\programdata\\anaconda3\\envs\\puthumalar\\lib\\site-packages (from pomegranate) (1.26.0)\n",
      "Requirement already satisfied: scipy>=1.6.2 in c:\\programdata\\anaconda3\\envs\\puthumalar\\lib\\site-packages (from pomegranate) (1.11.3)\n",
      "Requirement already satisfied: scikit-learn>=1.0.2 in c:\\programdata\\anaconda3\\envs\\puthumalar\\lib\\site-packages (from pomegranate) (1.3.2)\n",
      "Requirement already satisfied: torch>=1.9.0 in c:\\programdata\\anaconda3\\envs\\puthumalar\\lib\\site-packages (from pomegranate) (2.1.0)\n",
      "Requirement already satisfied: apricot-select>=0.6.1 in c:\\programdata\\anaconda3\\envs\\puthumalar\\lib\\site-packages (from pomegranate) (0.6.1)\n",
      "Requirement already satisfied: networkx>=2.8.4 in c:\\programdata\\anaconda3\\envs\\puthumalar\\lib\\site-packages (from pomegranate) (3.1)\n",
      "Requirement already satisfied: numba>=0.43.0 in c:\\programdata\\anaconda3\\envs\\puthumalar\\lib\\site-packages (from apricot-select>=0.6.1->pomegranate) (0.58.1)\n",
      "Requirement already satisfied: tqdm>=4.24.0 in c:\\programdata\\anaconda3\\envs\\puthumalar\\lib\\site-packages (from apricot-select>=0.6.1->pomegranate) (4.66.1)\n",
      "Requirement already satisfied: nose in c:\\programdata\\anaconda3\\envs\\puthumalar\\lib\\site-packages (from apricot-select>=0.6.1->pomegranate) (1.3.7)\n",
      "Requirement already satisfied: joblib>=1.1.1 in c:\\programdata\\anaconda3\\envs\\puthumalar\\lib\\site-packages (from scikit-learn>=1.0.2->pomegranate) (1.3.2)\n",
      "Requirement already satisfied: threadpoolctl>=2.0.0 in c:\\programdata\\anaconda3\\envs\\puthumalar\\lib\\site-packages (from scikit-learn>=1.0.2->pomegranate) (3.2.0)\n",
      "Requirement already satisfied: filelock in c:\\programdata\\anaconda3\\envs\\puthumalar\\lib\\site-packages (from torch>=1.9.0->pomegranate) (3.12.4)\n",
      "Requirement already satisfied: typing-extensions in c:\\programdata\\anaconda3\\envs\\puthumalar\\lib\\site-packages (from torch>=1.9.0->pomegranate) (4.7.1)\n",
      "Requirement already satisfied: sympy in c:\\programdata\\anaconda3\\envs\\puthumalar\\lib\\site-packages (from torch>=1.9.0->pomegranate) (1.12)\n",
      "Requirement already satisfied: jinja2 in c:\\programdata\\anaconda3\\envs\\puthumalar\\lib\\site-packages (from torch>=1.9.0->pomegranate) (3.1.2)\n",
      "Requirement already satisfied: fsspec in c:\\programdata\\anaconda3\\envs\\puthumalar\\lib\\site-packages (from torch>=1.9.0->pomegranate) (2023.10.0)\n",
      "Requirement already satisfied: llvmlite<0.42,>=0.41.0dev0 in c:\\programdata\\anaconda3\\envs\\puthumalar\\lib\\site-packages (from numba>=0.43.0->apricot-select>=0.6.1->pomegranate) (0.41.1)\n",
      "Requirement already satisfied: colorama in c:\\programdata\\anaconda3\\envs\\puthumalar\\lib\\site-packages (from tqdm>=4.24.0->apricot-select>=0.6.1->pomegranate) (0.4.6)\n",
      "Requirement already satisfied: MarkupSafe>=2.0 in c:\\programdata\\anaconda3\\envs\\puthumalar\\lib\\site-packages (from jinja2->torch>=1.9.0->pomegranate) (2.1.1)\n",
      "Requirement already satisfied: mpmath>=0.19 in c:\\programdata\\anaconda3\\envs\\puthumalar\\lib\\site-packages (from sympy->torch>=1.9.0->pomegranate) (1.3.0)\n",
      "Note: you may need to restart the kernel to use updated packages.\n"
     ]
    }
   ],
   "source": [
    "pip install pomegranate"
   ]
  },
  {
   "cell_type": "code",
   "execution_count": 7,
   "id": "5dda7687",
   "metadata": {},
   "outputs": [],
   "source": [
    "from pomegranate import*"
   ]
  },
  {
   "cell_type": "markdown",
   "id": "2331983a",
   "metadata": {},
   "source": [
    "pomegranate is a python library that implements probabilistic models"
   ]
  },
  {
   "cell_type": "code",
   "execution_count": null,
   "id": "a7b5e0f1",
   "metadata": {},
   "outputs": [],
   "source": [
    "smoking =Node(DIscreteDistribution()"
   ]
  },
  {
   "cell_type": "code",
   "execution_count": null,
   "id": "c0274b03",
   "metadata": {},
   "outputs": [],
   "source": []
  }
 ],
 "metadata": {
  "kernelspec": {
   "display_name": "Python 3 (ipykernel)",
   "language": "python",
   "name": "python3"
  },
  "language_info": {
   "codemirror_mode": {
    "name": "ipython",
    "version": 3
   },
   "file_extension": ".py",
   "mimetype": "text/x-python",
   "name": "python",
   "nbconvert_exporter": "python",
   "pygments_lexer": "ipython3",
   "version": "3.11.5"
  }
 },
 "nbformat": 4,
 "nbformat_minor": 5
}
