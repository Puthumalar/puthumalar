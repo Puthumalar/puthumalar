{
 "cells": [
  {
   "cell_type": "code",
   "execution_count": null,
   "id": "ccd32771",
   "metadata": {},
   "outputs": [],
   "source": [
    "our dear friend mark who lives in california plays soccer in club named spinoff.\n",
    "since he is new to california and he loves pets,he bought a cat.mark is a student who studies in california state university(csu)"
   ]
  },
  {
   "cell_type": "markdown",
   "id": "2bc9d2fe",
   "metadata": {},
   "source": [
    "# statements"
   ]
  },
  {
   "cell_type": "code",
   "execution_count": null,
   "id": "cc039175",
   "metadata": {},
   "outputs": [],
   "source": [
    "mark is a student in california state university\n",
    "mark has a cat\n",
    "mark lives in california\n",
    "mark plays soccer\n",
    "mark is a part of spin off\n",
    "spin off is a sport club\n",
    "cat is a animal \n",
    "mark loves animal"
   ]
  },
  {
   "cell_type": "markdown",
   "id": "ae905df2",
   "metadata": {},
   "source": [
    "# 1.Important Libraries"
   ]
  },
  {
   "cell_type": "code",
   "execution_count": 6,
   "id": "c6591338",
   "metadata": {},
   "outputs": [
    {
     "name": "stdout",
     "output_type": "stream",
     "text": [
      "Requirement already satisfied: networkx in c:\\programdata\\anaconda3\\envs\\puthumalar\\lib\\site-packages (3.1)\n",
      "Note: you may need to restart the kernel to use updated packages.\n"
     ]
    }
   ],
   "source": [
    "pip install networkx"
   ]
  },
  {
   "cell_type": "code",
   "execution_count": 4,
   "id": "c2ba4c0f",
   "metadata": {},
   "outputs": [
    {
     "name": "stdout",
     "output_type": "stream",
     "text": [
      "Requirement already satisfied: matplotlib in c:\\programdata\\anaconda3\\envs\\puthumalar\\lib\\site-packages (3.8.0)\n",
      "Requirement already satisfied: contourpy>=1.0.1 in c:\\programdata\\anaconda3\\envs\\puthumalar\\lib\\site-packages (from matplotlib) (1.1.1)\n",
      "Requirement already satisfied: cycler>=0.10 in c:\\programdata\\anaconda3\\envs\\puthumalar\\lib\\site-packages (from matplotlib) (0.11.0)\n",
      "Requirement already satisfied: fonttools>=4.22.0 in c:\\programdata\\anaconda3\\envs\\puthumalar\\lib\\site-packages (from matplotlib) (4.42.1)\n",
      "Requirement already satisfied: kiwisolver>=1.0.1 in c:\\programdata\\anaconda3\\envs\\puthumalar\\lib\\site-packages (from matplotlib) (1.4.5)\n",
      "Requirement already satisfied: numpy<2,>=1.21 in c:\\programdata\\anaconda3\\envs\\puthumalar\\lib\\site-packages (from matplotlib) (1.26.0)\n",
      "Requirement already satisfied: packaging>=20.0 in c:\\programdata\\anaconda3\\envs\\puthumalar\\lib\\site-packages (from matplotlib) (23.1)\n",
      "Requirement already satisfied: pillow>=6.2.0 in c:\\programdata\\anaconda3\\envs\\puthumalar\\lib\\site-packages (from matplotlib) (10.0.1)\n",
      "Requirement already satisfied: pyparsing>=2.3.1 in c:\\programdata\\anaconda3\\envs\\puthumalar\\lib\\site-packages (from matplotlib) (3.1.1)\n",
      "Requirement already satisfied: python-dateutil>=2.7 in c:\\programdata\\anaconda3\\envs\\puthumalar\\lib\\site-packages (from matplotlib) (2.8.2)\n",
      "Requirement already satisfied: six>=1.5 in c:\\programdata\\anaconda3\\envs\\puthumalar\\lib\\site-packages (from python-dateutil>=2.7->matplotlib) (1.16.0)\n",
      "Note: you may need to restart the kernel to use updated packages.\n"
     ]
    }
   ],
   "source": [
    "pip install matplotlib"
   ]
  },
  {
   "cell_type": "code",
   "execution_count": 7,
   "id": "d4d40b12",
   "metadata": {},
   "outputs": [],
   "source": [
    "import networkx as nx"
   ]
  },
  {
   "cell_type": "code",
   "execution_count": 8,
   "id": "590f1493",
   "metadata": {},
   "outputs": [],
   "source": [
    "import matplotlib.pyplot as plt\n",
    "%matplotlib notebook"
   ]
  },
  {
   "cell_type": "markdown",
   "id": "ed5f95d9",
   "metadata": {},
   "source": [
    "# 2.create a directed graph"
   ]
  },
  {
   "cell_type": "code",
   "execution_count": 11,
   "id": "2feb941b",
   "metadata": {},
   "outputs": [],
   "source": [
    "graph_mark = nx.DiGraph(Info=\"marks's detail\")"
   ]
  },
  {
   "cell_type": "markdown",
   "id": "ce805374",
   "metadata": {},
   "source": [
    "# 3.creating nodes along with positions"
   ]
  },
  {
   "cell_type": "code",
   "execution_count": 13,
   "id": "e7ab6206",
   "metadata": {},
   "outputs": [],
   "source": [
    "graph_mark.add_node(\"mark\",pos=(0,0))\n",
    "graph_mark.add_node(\"cat\",pos=(-2,6))\n",
    "graph_mark.add_node(\"student\",pos=(2,-5))\n",
    "graph_mark.add_node(\"animal\",pos=(1,6))\n",
    "graph_mark.add_node(\"california\",pos=(4,6))\n",
    "graph_mark.add_node(\"spinoff\",pos=(-5,-5))\n",
    "graph_mark.add_node(\"soccer\",pos=(-5,2))\n",
    "graph_mark.add_node(\"sports club\",pos=(0,-8))\n",
    "graph_mark.add_node(\"CSU\",pos=(5,-1))\n",
    "pos=nx.get_node_attributes(graph_mark,\"pos\")"
   ]
  },
  {
   "cell_type": "markdown",
   "id": "423891a6",
   "metadata": {},
   "source": [
    "# 4.create edges with weights(relationships)"
   ]
  },
  {
   "cell_type": "code",
   "execution_count": null,
   "id": "07ab3b2f",
   "metadata": {},
   "outputs": [],
   "source": [
    "graph_mark.add_edge(\"mark\",\"cat\",weight=\"has a\")\n",
    "graph_mark.add_edge(\"mark\",\"student\",weight=\"is a\")\n",
    "graph_mark.add_edge(\"cat\",\"animal\",weight=\"is a\")\n",
    "graph_mark.add_edge(\"mark\",\"soccer\",weight=\"play\")\n",
    "graph_mark.add_edge(\"\")"
   ]
  }
 ],
 "metadata": {
  "kernelspec": {
   "display_name": "Python 3 (ipykernel)",
   "language": "python",
   "name": "python3"
  },
  "language_info": {
   "codemirror_mode": {
    "name": "ipython",
    "version": 3
   },
   "file_extension": ".py",
   "mimetype": "text/x-python",
   "name": "python",
   "nbconvert_exporter": "python",
   "pygments_lexer": "ipython3",
   "version": "3.11.5"
  }
 },
 "nbformat": 4,
 "nbformat_minor": 5
}
