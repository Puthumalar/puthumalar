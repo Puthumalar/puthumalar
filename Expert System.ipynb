{
 "cells": [
  {
   "cell_type": "code",
   "execution_count": null,
   "id": "e1fa785e",
   "metadata": {},
   "outputs": [],
   "source": [
    " Expert System"
   ]
  },
  {
   "cell_type": "code",
   "execution_count": 12,
   "id": "908d3989",
   "metadata": {},
   "outputs": [
    {
     "ename": "SyntaxError",
     "evalue": "invalid syntax (3942723052.py, line 41)",
     "output_type": "error",
     "traceback": [
      "\u001b[1;36m  Cell \u001b[1;32mIn[12], line 41\u001b[1;36m\u001b[0m\n\u001b[1;33m    else:\u001b[0m\n\u001b[1;37m    ^\u001b[0m\n\u001b[1;31mSyntaxError\u001b[0m\u001b[1;31m:\u001b[0m invalid syntax\n"
     ]
    }
   ],
   "source": [
    "import time\n",
    "print(\"\\t\\twelcome to automobile AI expert system\\t\\t\")\n",
    "print(\"\\n\\nAI : do you have any problem with your vehicle ? (yes or no)\\n\")\n",
    "choice1=input(\"you : \")\n",
    "if choice ==\"yes\":\n",
    "    print(\"\\nEnter the type of your issue listern down below :\\n1. starting trouble\\n2.woubbe while driving\\n3.I didn't have issue\\n\")\n",
    "    choice2=input(\"\\nEnter Here (number only):\")\n",
    "    \n",
    "    if choice2 > \"3\" or choice <\"1\":\n",
    "        print(\"\\nAI : please Enter valid key..\")\n",
    "        \n",
    "    elif choice2== \"3\":\n",
    "        print(\"\\nAI : then ,why are you enter yes in the first question...you fool\\n\")\n",
    "            \n",
    "    elif choice == \"2\":\n",
    "        print(\"\\nAI :ok let me think...!\\n\")\n",
    "        for i in range(1,20):\n",
    "            time.sleep(0.08)\n",
    "            print(\".\",flush=True,ends=\"\")\n",
    "            print(\"\\nAI : when do you feel the woubbling \\n1. while drive on the terrible speed\\n2.while drive  normal road\\n,2.while drive normal road\\n\")           \n",
    "        \n",
    "    choice3=input(\"you : \")\n",
    "        \n",
    "    if choice3==\"1\":\n",
    "        print(\"\\nAI : please wait still...\\nAI : i wanna call police...\\nAI : just kidding...go slow my friend\")\n",
    "        \n",
    "    elif choice3==\"2\":\n",
    "        print(\"\\nAI : check you tire air pressure then check inform me kindly\")\n",
    "        print(\"\\nAI : still you feel woubble?(yes or no)\\n\")\n",
    "        choice4=input(\"you : \")\n",
    "            \n",
    "        if choice4==\"no\":\n",
    "            print(\"\\nAI : I'm gald to help you...\\n thankyou...!\\call me again \")\n",
    "                \n",
    "        elif choice4==\"yes\":\n",
    "                print(\"\\nAI : I think you have to make a phone call to your service center....\\n Thankyou\")\n",
    "        else:\n",
    "            print(\"\\nAI : will you please enter the correct answer\\n Go on run again me\")\n",
    "    else:\n",
    "        print(\"\\nAI : please enter the valid key...\")\n",
    "    else:\n",
    "        print(\"\\nAI : Let me remember that you have to check that the key is inserted?\\nAI : Is it intrested?(yes or no)\")\n",
    "        choice5=input(\"You : \")\n",
    "            \n",
    "        if choice5=='no':\n",
    "            print(\"\\nAI : I think you have to study hard...better then ride a bike...\\nAI : thankyou..!\")\n",
    "        elif choice5=='yes':\n",
    "            print(\"\\nAI : oh i see.. let me think what to do wait a sec\\n \")\n",
    "                \n",
    "            for i in range(1,30):\n",
    "            time.sleep(0.08)\n",
    "            print(\".\",flush=True,end=\"\")\n",
    "            print(\"\\n\\nAI : sorry buddy I didn't get anything in my memory,I think you have to reach service center.  \")\n",
    "        else:\n",
    "            print(\"\\ni'm getting bore when you enter wrong answer,' {} 'it dosen't make any sense\".format(choice5))\n",
    "\n",
    "\n",
    "elif choice1=='no':\n",
    "    print(\"\\nAI : Then Why are you waste my time...\")\n",
    "else:\n",
    "    print(\"AI : Enter vaild key \")"
   ]
  },
  {
   "cell_type": "code",
   "execution_count": null,
   "id": "8af94abb",
   "metadata": {},
   "outputs": [],
   "source": []
  },
  {
   "cell_type": "code",
   "execution_count": null,
   "id": "401f112d",
   "metadata": {},
   "outputs": [],
   "source": []
  }
 ],
 "metadata": {
  "kernelspec": {
   "display_name": "Python 3 (ipykernel)",
   "language": "python",
   "name": "python3"
  },
  "language_info": {
   "codemirror_mode": {
    "name": "ipython",
    "version": 3
   },
   "file_extension": ".py",
   "mimetype": "text/x-python",
   "name": "python",
   "nbconvert_exporter": "python",
   "pygments_lexer": "ipython3",
   "version": "3.11.5"
  }
 },
 "nbformat": 4,
 "nbformat_minor": 5
}
