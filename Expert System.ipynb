{
 "cells": [
  {
   "cell_type": "code",
   "execution_count": null,
   "id": "20ab44a0",
   "metadata": {},
   "outputs": [],
   "source": [
    " Expert System"
   ]
  },
  {
   "cell_type": "code",
   "execution_count": null,
   "id": "e32ec614",
   "metadata": {},
   "outputs": [],
   "source": [
    "import time\n",
    "print(\"\\t\\twelcome to automobile AI expert system\\t\\t\")\n",
    "print(\"\\n\\nAI : do you have any problem with your vehicle ? (yes or no)\\n\")\n",
    "choice1=input(\"you : \")\n",
    "\n",
    "if choice ==\"yes\":\n",
    "    print(\"\\nEnter the type of your issue listern down below :\\n1. starting trouble\\n2.woubbe while driving\\n3.I didn't have issue\\n\")\n",
    "    choice2=input(\"\\nEnter Here (number only):\")\n",
    "    \n",
    "    if choice2 > \"3\" or choice <\"1\":\n",
    "        print(\"\\nAI : please Enter valid key..\")\n",
    "        \n",
    "    elif choice2== \"3\":\n",
    "        print(\"\\nAI : then ,why are you enter yes in the first question...you fool\\n\")\n",
    "            \n",
    "    elif choice == \"2\":\n",
    "        print(\"\\nAI :ok let me think...!\\n\")\n",
    "        for i in range(1,20):\n",
    "            time.sleep(0.08)\n",
    "            print(\".\",flush=True,ends=\"\")\n",
    "        print(\"\\nAI : when do you feel the woubbling \\n1. while drive on the terrible speed\\n2.while drive  normal road\\n\")\n",
    "              2.while drive normal road\\n\")\n",
    "            \n",
    "        choice3=input(\"you : \")\n",
    "        \n",
    "        if choice3 =input\"1\":\n",
    "            print(\"\\nAI : please wait still...\\nAI : i wanna call police...\\nAI : just kidding...go slow my friend\")\n",
    "        \n",
    "        elif choice3==\"2:\"\n",
    "        print(\"\\nAI : check you tire air pressure then check inform me kindly\")"
   ]
  }
 ],
 "metadata": {
  "kernelspec": {
   "display_name": "Python 3 (ipykernel)",
   "language": "python",
   "name": "python3"
  },
  "language_info": {
   "codemirror_mode": {
    "name": "ipython",
    "version": 3
   },
   "file_extension": ".py",
   "mimetype": "text/x-python",
   "name": "python",
   "nbconvert_exporter": "python",
   "pygments_lexer": "ipython3",
   "version": "3.11.5"
  }
 },
 "nbformat": 4,
 "nbformat_minor": 5
}
