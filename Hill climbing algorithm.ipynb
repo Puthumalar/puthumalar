{
 "cells": [
  {
   "cell_type": "markdown",
   "id": "9f8745cf",
   "metadata": {},
   "source": [
    "traveling sales person\n",
    "\n",
    "finding the best possible shortest route among these cities to travel\n",
    "\n",
    "chennai-banglore=347\n",
    "\n",
    "chennai-delhi=2196\n",
    "\n",
    "chennai-kolkata=1667\n",
    "\n",
    "banglore-delhi=2164\n",
    "\n",
    "banglore-kolkota=1875\n",
    "\n",
    "delhi-kolkota=1559\n",
    "\n",
    "all the values in kms"
   ]
  },
  {
   "cell_type": "markdown",
   "id": "bf702c8d",
   "metadata": {},
   "source": [
    "# importing random library"
   ]
  },
  {
   "cell_type": "code",
   "execution_count": 2,
   "id": "c0e470de",
   "metadata": {},
   "outputs": [],
   "source": [
    "import random"
   ]
  },
  {
   "cell_type": "markdown",
   "id": "09486090",
   "metadata": {},
   "source": [
    "# travelling sales man city distances"
   ]
  },
  {
   "cell_type": "code",
   "execution_count": null,
   "id": "882a57a4",
   "metadata": {},
   "outputs": [],
   "source": [
    "tsp=[[0,347,2196,1667],\n",
    "     [347,0,2164,1875],\n",
    "     [2196,2164,0,1559],\n",
    "     [1667,1875,1559,0]]\n"
   ]
  }
 ],
 "metadata": {
  "kernelspec": {
   "display_name": "Python 3 (ipykernel)",
   "language": "python",
   "name": "python3"
  },
  "language_info": {
   "codemirror_mode": {
    "name": "ipython",
    "version": 3
   },
   "file_extension": ".py",
   "mimetype": "text/x-python",
   "name": "python",
   "nbconvert_exporter": "python",
   "pygments_lexer": "ipython3",
   "version": "3.11.5"
  }
 },
 "nbformat": 4,
 "nbformat_minor": 5
}
