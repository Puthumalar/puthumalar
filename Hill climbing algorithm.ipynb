{
 "cells": [
  {
   "cell_type": "markdown",
   "id": "9f8745cf",
   "metadata": {},
   "source": [
    "traveling sales person\n",
    "\n",
    "finding the best possible shortest route among these cities to travel\n",
    "\n",
    "chennai-banglore=347\n",
    "\n",
    "chennai-delhi=2196\n",
    "\n",
    "chennai-kolkata=1667\n",
    "\n",
    "banglore-delhi=2164\n",
    "\n",
    "banglore-kolkota=1875\n",
    "\n",
    "delhi-kolkota=1559\n",
    "\n",
    "all the values in kms"
   ]
  },
  {
   "cell_type": "markdown",
   "id": "bf702c8d",
   "metadata": {},
   "source": [
    "# importing random library"
   ]
  },
  {
   "cell_type": "code",
   "execution_count": 1,
   "id": "c0e470de",
   "metadata": {},
   "outputs": [],
   "source": [
    "import random"
   ]
  },
  {
   "cell_type": "markdown",
   "id": "09486090",
   "metadata": {},
   "source": [
    "# travelling sales man city distances"
   ]
  },
  {
   "cell_type": "code",
   "execution_count": 2,
   "id": "882a57a4",
   "metadata": {},
   "outputs": [],
   "source": [
    "tsp=[[0,347,2196,1667],\n",
    "     [347,0,2164,1875],\n",
    "     [2196,2164,0,1559],\n",
    "     [1667,1875,1559,0]]\n"
   ]
  },
  {
   "cell_type": "code",
   "execution_count": 3,
   "id": "a6a675e3",
   "metadata": {},
   "outputs": [
    {
     "data": {
      "text/plain": [
       "4"
      ]
     },
     "execution_count": 3,
     "metadata": {},
     "output_type": "execute_result"
    }
   ],
   "source": [
    "len(tsp)"
   ]
  },
  {
   "cell_type": "code",
   "execution_count": 6,
   "id": "db7e0656",
   "metadata": {},
   "outputs": [],
   "source": [
    "a=list(range(4))"
   ]
  },
  {
   "cell_type": "code",
   "execution_count": 7,
   "id": "3ce5f48e",
   "metadata": {},
   "outputs": [
    {
     "data": {
      "text/plain": [
       "[0, 1, 2, 3]"
      ]
     },
     "execution_count": 7,
     "metadata": {},
     "output_type": "execute_result"
    }
   ],
   "source": [
    "a"
   ]
  },
  {
   "cell_type": "markdown",
   "id": "872c8ad1",
   "metadata": {},
   "source": [
    "# Random Soultion Generation"
   ]
  },
  {
   "cell_type": "code",
   "execution_count": 12,
   "id": "19943d28",
   "metadata": {},
   "outputs": [],
   "source": [
    "def randomsolution(tsp):\n",
    "    cities = list(range(len(tsp)))\n",
    "    solution = []\n",
    "    \n",
    "    for i in range(len(tsp)):\n",
    "        randomCity = cities[random.randint(0,len(cities) - 1)]\n",
    "        solution.append(randomCity)\n",
    "        cities.remove(randomCity)\n",
    "        \n",
    "    return solution"
   ]
  },
  {
   "cell_type": "code",
   "execution_count": 13,
   "id": "3e89a660",
   "metadata": {},
   "outputs": [
    {
     "name": "stdout",
     "output_type": "stream",
     "text": [
      "[2, 0, 1, 3]\n"
     ]
    }
   ],
   "source": [
    "solution=randomsolution(tsp)\n",
    "print(solution)"
   ]
  },
  {
   "cell_type": "markdown",
   "id": "3a54a88c",
   "metadata": {},
   "source": [
    "# Calculating Length of Route"
   ]
  },
  {
   "cell_type": "code",
   "execution_count": 16,
   "id": "6a98c9cc",
   "metadata": {},
   "outputs": [],
   "source": [
    "def routelength(tsp,solution):\n",
    "    routelength = 0\n",
    "    for i in range(len(solution)):\n",
    "        routelength += tsp[solution[i - 1]][solution[i]]\n",
    "        return routelength"
   ]
  },
  {
   "cell_type": "code",
   "execution_count": 17,
   "id": "3cef501a",
   "metadata": {},
   "outputs": [
    {
     "data": {
      "text/plain": [
       "1559"
      ]
     },
     "execution_count": 17,
     "metadata": {},
     "output_type": "execute_result"
    }
   ],
   "source": [
    "routelength(tsp,solution)"
   ]
  },
  {
   "cell_type": "markdown",
   "id": "959f05fb",
   "metadata": {},
   "source": [
    "# Generating Neighbour"
   ]
  },
  {
   "cell_type": "code",
   "execution_count": 20,
   "id": "6cf71615",
   "metadata": {},
   "outputs": [],
   "source": [
    "def getneighbours(solution):\n",
    "    neighbours = []\n",
    "    for i in range(len(solution)):\n",
    "        for j in range(i+1, len(solution)):\n",
    "            neighbour = solution.copy()\n",
    "            neighbour[i] = solution[j]\n",
    "            neighbour[j] = solution[i]\n",
    "            neighbours.append(neighbour)\n",
    "        return neighbours    "
   ]
  },
  {
   "cell_type": "code",
   "execution_count": 21,
   "id": "cd581f63",
   "metadata": {},
   "outputs": [
    {
     "name": "stdout",
     "output_type": "stream",
     "text": [
      "[[0, 2, 1, 3], [1, 0, 2, 3], [3, 0, 1, 2]]\n"
     ]
    }
   ],
   "source": [
    "neighbours=getneighbours(solution)\n",
    "print(neighbours)"
   ]
  },
  {
   "cell_type": "markdown",
   "id": "d498c118",
   "metadata": {},
   "source": [
    "# Finding Best neighbour"
   ]
  },
  {
   "cell_type": "code",
   "execution_count": 22,
   "id": "95fcd41c",
   "metadata": {},
   "outputs": [],
   "source": [
    "def getbestneighbour(tsp,neighbours):\n",
    "    bestroutelength= routelength(tsp, neighbours[0])\n",
    "    bestneighbour = neighbours[0]\n",
    "    for neighbour in neighbours:\n",
    "        currentroutelength = routelength(tsp,neighbour)\n",
    "        if currentroutelength < bestroutelength:\n",
    "            bestroutelength = currentroutelength\n",
    "            bestneighbour=neighbour\n",
    "            return bestneighbour, bestroutelength"
   ]
  },
  {
   "cell_type": "code",
   "execution_count": 23,
   "id": "e260ddce",
   "metadata": {},
   "outputs": [
    {
     "data": {
      "text/plain": [
       "([3, 0, 1, 2], 1559)"
      ]
     },
     "execution_count": 23,
     "metadata": {},
     "output_type": "execute_result"
    }
   ],
   "source": [
    "getbestneighbour(tsp,neighbours)"
   ]
  },
  {
   "cell_type": "markdown",
   "id": "110832cf",
   "metadata": {},
   "source": [
    "# Hill Climbing Algorithm"
   ]
  },
  {
   "cell_type": "code",
   "execution_count": 27,
   "id": "fbd79c53",
   "metadata": {},
   "outputs": [],
   "source": [
    "def hillclimbing(tsp):\n",
    "    currentsolution = randomsolution(tsp)\n",
    "    currentroutelength = routelength(tsp,currentsolution)\n",
    "    neighbours = getneighbours(currentsolution)\n",
    "    bestneighbour,bestneighbourroutelength = getbestneighbour(tsp,neighbours)\n",
    "    \n",
    "    while bestneighbourroutelength < currentroutelength:\n",
    "        currentsolution = bestneighbour\n",
    "        currentroutelength = bestneighbourroutelength\n",
    "        neighbours = getneighbours(currentsolution)\n",
    "        bestneighbour, bestneighbourroutelength = getbestneighbour(tsp,neighbours)\n",
    "        \n",
    "    return currentsolution, currentroutelength    "
   ]
  },
  {
   "cell_type": "markdown",
   "id": "6ac84996",
   "metadata": {},
   "source": [
    "# Hill Climbing Solution"
   ]
  },
  {
   "cell_type": "code",
   "execution_count": 28,
   "id": "4599d3a8",
   "metadata": {},
   "outputs": [
    {
     "name": "stdout",
     "output_type": "stream",
     "text": [
      "([0, 3, 2, 1], 347)\n"
     ]
    }
   ],
   "source": [
    "print(hillclimbing(tsp))"
   ]
  },
  {
   "cell_type": "code",
   "execution_count": null,
   "id": "d53b741f",
   "metadata": {},
   "outputs": [],
   "source": []
  }
 ],
 "metadata": {
  "kernelspec": {
   "display_name": "Python 3 (ipykernel)",
   "language": "python",
   "name": "python3"
  },
  "language_info": {
   "codemirror_mode": {
    "name": "ipython",
    "version": 3
   },
   "file_extension": ".py",
   "mimetype": "text/x-python",
   "name": "python",
   "nbconvert_exporter": "python",
   "pygments_lexer": "ipython3",
   "version": "3.11.5"
  }
 },
 "nbformat": 4,
 "nbformat_minor": 5
}
