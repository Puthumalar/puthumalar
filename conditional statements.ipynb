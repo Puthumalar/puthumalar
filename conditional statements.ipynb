{
 "cells": [
  {
   "cell_type": "code",
   "execution_count": 1,
   "id": "f9afa81f",
   "metadata": {},
   "outputs": [],
   "source": [
    "a=30"
   ]
  },
  {
   "cell_type": "code",
   "execution_count": 2,
   "id": "f7cc3629",
   "metadata": {},
   "outputs": [
    {
     "name": "stdout",
     "output_type": "stream",
     "text": [
      "pass\n"
     ]
    }
   ],
   "source": [
    "if a==30:\n",
    "    print(\"pass\")\n",
    "else:\n",
    "    print(\"fail\")\n",
    "    "
   ]
  },
  {
   "cell_type": "code",
   "execution_count": 3,
   "id": "5caa0f80",
   "metadata": {},
   "outputs": [
    {
     "name": "stdout",
     "output_type": "stream",
     "text": [
      "enter your age :20\n",
      "you are eligible for voting\n",
      "enter your name :puthumalar\n",
      "enter your area:thanjavur\n"
     ]
    }
   ],
   "source": [
    "age=int(input(\"enter your age :\"))\n",
    "if age>=18:\n",
    "    print(\"you are eligible for voting\")\n",
    "    name=input(\"enter your name :\")\n",
    "    location=input(\"enter your area:\")\n",
    "else:    \n",
    "    print(\"you are not eligible for voting\")"
   ]
  },
  {
   "cell_type": "code",
   "execution_count": null,
   "id": "3ec012c5",
   "metadata": {},
   "outputs": [],
   "source": [
    "fine=50\n",
    "days=int(input(\"enter the no of late submission days \"))\n",
    "if(days<=2):\n",
    "    fine=fine\n",
    "    print(f\"your fine amount is {fine}\")\n",
    "elif(days<=4):\n",
    "    fine=fine+10\n",
    "    print(f\"your fine amount is {fine}\")\n",
    "elif(days<=8):\n",
    "    fine+=20\n",
    "    print(f\"your fine amount is {fine}\")\n",
    "elif(days<=10):\n",
    "    fine+=30\n",
    "    print(f\"your fine amount is {fine}\")\n",
    "else:\n",
    "     print(\"you dont have fine\")\n",
    "    "
   ]
  },
  {
   "cell_type": "code",
   "execution_count": null,
   "id": "1e1df460",
   "metadata": {},
   "outputs": [],
   "source": []
  }
 ],
 "metadata": {
  "kernelspec": {
   "display_name": "Python 3 (ipykernel)",
   "language": "python",
   "name": "python3"
  },
  "language_info": {
   "codemirror_mode": {
    "name": "ipython",
    "version": 3
   },
   "file_extension": ".py",
   "mimetype": "text/x-python",
   "name": "python",
   "nbconvert_exporter": "python",
   "pygments_lexer": "ipython3",
   "version": "3.9.17"
  }
 },
 "nbformat": 4,
 "nbformat_minor": 5
}
