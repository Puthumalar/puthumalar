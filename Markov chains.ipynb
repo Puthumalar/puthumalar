{
 "cells": [
  {
   "cell_type": "code",
   "execution_count": 5,
   "id": "07e64609",
   "metadata": {},
   "outputs": [],
   "source": [
    "#pip install protopunica"
   ]
  },
  {
   "cell_type": "code",
   "execution_count": 16,
   "id": "620aca3a",
   "metadata": {},
   "outputs": [],
   "source": [
    "from protopunica import *\n",
    "import numpy as np"
   ]
  },
  {
   "cell_type": "markdown",
   "id": "ad9aae00",
   "metadata": {},
   "source": [
    "If Mr.markov had a pizza for lunch today then the probability that he is going to have a pizza tomorrow\n",
    "is 75% and 25% probable that he is going to have vegetables and steak tomorrow.similarly if Mr.Markov\n",
    "have vegetables and steak for lunch today then he is 60% sure that he will have the same lunch \n",
    "tomorrow and 40% sure that he will have a pizza..."
   ]
  },
  {
   "cell_type": "markdown",
   "id": "cc20181d",
   "metadata": {},
   "source": [
    "# Lets plot the Transition Diagram"
   ]
  },
  {
   "cell_type": "code",
   "execution_count": 17,
   "id": "b1fc98c6",
   "metadata": {},
   "outputs": [],
   "source": [
    "start = DiscreteDistribution({\"Pizza\":1,\"Veg\":0})"
   ]
  },
  {
   "cell_type": "code",
   "execution_count": 18,
   "id": "be02fccc",
   "metadata": {},
   "outputs": [],
   "source": [
    "Transitions=ConditionalProbabilityTable([\n",
    "    [\"Pizza\",\"Pizza\",0.75],\n",
    "    [\"Pizza\",\"Veg\",0.25],\n",
    "    [\"Veg\",\"Veg\",0.6],\n",
    "    [\"Pizza\",\"Veg\",0.4]\n",
    "],[start])"
   ]
  },
  {
   "cell_type": "markdown",
   "id": "18f52fe1",
   "metadata": {},
   "source": [
    "# combine both the initial state and Transition matrix to create a markov chain model"
   ]
  },
  {
   "cell_type": "code",
   "execution_count": 19,
   "id": "c92eaed8",
   "metadata": {},
   "outputs": [],
   "source": [
    "Model=MarkovChain([start,Transitions])"
   ]
  },
  {
   "cell_type": "markdown",
   "id": "2ffc09fb",
   "metadata": {},
   "source": [
    "# Let's create some random set of events from Markov chain"
   ]
  },
  {
   "cell_type": "code",
   "execution_count": 20,
   "id": "e2abdc95",
   "metadata": {},
   "outputs": [],
   "source": [
    "Random_samples=Model.sample(3)"
   ]
  },
  {
   "cell_type": "code",
   "execution_count": 21,
   "id": "8e3c0a16",
   "metadata": {},
   "outputs": [
    {
     "name": "stdout",
     "output_type": "stream",
     "text": [
      "['Pizza', 'Veg', 'Veg']\n"
     ]
    }
   ],
   "source": [
    "print(Random_samples)"
   ]
  },
  {
   "cell_type": "markdown",
   "id": "f67ce095",
   "metadata": {},
   "source": [
    "# Find the log probability for this set of events"
   ]
  },
  {
   "cell_type": "code",
   "execution_count": 22,
   "id": "b94744e6",
   "metadata": {},
   "outputs": [],
   "source": [
    "Log_probability=Model.log_probability(Random_samples)"
   ]
  },
  {
   "cell_type": "code",
   "execution_count": 24,
   "id": "33ad2f89",
   "metadata": {},
   "outputs": [],
   "source": [
    "Probability_of_Occurance=np.exp(Log_probability)"
   ]
  },
  {
   "cell_type": "markdown",
   "id": "12da8999",
   "metadata": {},
   "source": [
    "# Probability of occurance"
   ]
  },
  {
   "cell_type": "code",
   "execution_count": 25,
   "id": "bdec2bcc",
   "metadata": {},
   "outputs": [
    {
     "data": {
      "text/plain": [
       "0.24000000000000005"
      ]
     },
     "execution_count": 25,
     "metadata": {},
     "output_type": "execute_result"
    }
   ],
   "source": [
    "Probability_of_Occurance"
   ]
  },
  {
   "cell_type": "markdown",
   "id": "ed4c03c7",
   "metadata": {},
   "source": [
    "# Define a set of Sequence"
   ]
  },
  {
   "cell_type": "markdown",
   "id": "89ef9cfc",
   "metadata": {},
   "source": [
    "what is the probability that the sequence will sequence will occur the answer lies in the \n",
    "transition matrix.The answer is the product of transition probabilities"
   ]
  },
  {
   "cell_type": "code",
   "execution_count": 26,
   "id": "6e4fcfec",
   "metadata": {},
   "outputs": [],
   "source": [
    "Log_Probability_Food_sequence=Model.log_probability([\"Pizza\",\"Veg\",\"Veg\"])"
   ]
  },
  {
   "cell_type": "code",
   "execution_count": 27,
   "id": "1988dda0",
   "metadata": {},
   "outputs": [],
   "source": [
    "Probability_of_Food=np.exp(Log_Probability_Food_sequence)"
   ]
  },
  {
   "cell_type": "code",
   "execution_count": 29,
   "id": "7b178126",
   "metadata": {},
   "outputs": [
    {
     "name": "stdout",
     "output_type": "stream",
     "text": [
      "0.24000000000000005\n"
     ]
    }
   ],
   "source": [
    "print(Probability_of_Food)"
   ]
  },
  {
   "cell_type": "code",
   "execution_count": null,
   "id": "cb4e84e7",
   "metadata": {},
   "outputs": [],
   "source": []
  }
 ],
 "metadata": {
  "kernelspec": {
   "display_name": "Python 3 (ipykernel)",
   "language": "python",
   "name": "python3"
  },
  "language_info": {
   "codemirror_mode": {
    "name": "ipython",
    "version": 3
   },
   "file_extension": ".py",
   "mimetype": "text/x-python",
   "name": "python",
   "nbconvert_exporter": "python",
   "pygments_lexer": "ipython3",
   "version": "3.11.5"
  }
 },
 "nbformat": 4,
 "nbformat_minor": 5
}
